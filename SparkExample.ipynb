{
 "cells": [
  {
   "cell_type": "code",
   "execution_count": 11,
   "id": "e16b7fb2",
   "metadata": {},
   "outputs": [],
   "source": [
    "from pyspark.sql.functions import *"
   ]
  },
  {
   "cell_type": "code",
   "execution_count": 12,
   "id": "a266a723",
   "metadata": {},
   "outputs": [],
   "source": [
    "flights_df = spark.read\\\n",
    "                .format(\"csv\")\\\n",
    "                .option(\"header\", \"true\")\\\n",
    "                .load(\"flights.csv\")"
   ]
  },
  {
   "cell_type": "code",
   "execution_count": 13,
   "id": "ed1aad04",
   "metadata": {},
   "outputs": [],
   "source": [
    "airlines_df = spark.read\\\n",
    "                .format(\"csv\")\\\n",
    "                .option(\"header\", \"true\")\\\n",
    "                .load(\"airlines.csv\")"
   ]
  },
  {
   "cell_type": "code",
   "execution_count": 14,
   "id": "a7af6030",
   "metadata": {},
   "outputs": [
    {
     "name": "stdout",
     "output_type": "stream",
     "text": [
      "+----------+--------+-------------+------+-----------+---------+---------------+-------+-------------+--------+--------+\n",
      "|      date|airlines|flight_number|origin|destination|departure|departure_delay|arrival|arrival_delay|air_time|distance|\n",
      "+----------+--------+-------------+------+-----------+---------+---------------+-------+-------------+--------+--------+\n",
      "|2021-04-01|   19805|            1|   JFK|        LAX|      854|             -6|   1217|            2|     355|    2475|\n",
      "|2021-04-01|   19805|            2|   LAX|        JFK|      944|             14|   1736|          -29|     269|    2475|\n",
      "|2021-04-01|   19805|            3|   JFK|        LAX|     1224|             -6|   1614|           39|     371|    2475|\n",
      "|2021-04-01|   19805|            4|   LAX|        JFK|     1240|             25|   2028|          -27|     264|    2475|\n",
      "|2021-04-01|   19805|            5|   DFW|        HNL|     1300|             -5|   1650|           15|     510|    3784|\n",
      "+----------+--------+-------------+------+-----------+---------+---------------+-------+-------------+--------+--------+\n",
      "only showing top 5 rows\n",
      "\n"
     ]
    }
   ],
   "source": [
    "flights_df.show(5)"
   ]
  },
  {
   "cell_type": "code",
   "execution_count": 15,
   "id": "6cd82d13",
   "metadata": {},
   "outputs": [
    {
     "name": "stdout",
     "output_type": "stream",
     "text": [
      "+-----+--------------------+\n",
      "| Code|         Description|\n",
      "+-----+--------------------+\n",
      "|19031|Mackey Internatio...|\n",
      "|19032|Munz Northern Air...|\n",
      "|19033|Cochise Airlines ...|\n",
      "|19034|Golden Gate Airli...|\n",
      "|19035|  Aeromech Inc.: RZZ|\n",
      "+-----+--------------------+\n",
      "only showing top 5 rows\n",
      "\n"
     ]
    }
   ],
   "source": [
    "airlines_df.show(5)"
   ]
  },
  {
   "cell_type": "code",
   "execution_count": 16,
   "id": "a0f16a91",
   "metadata": {},
   "outputs": [],
   "source": [
    "flightDetails_df = flights_df.drop('date', 'flight_number', 'origin', 'departure', 'arrival')"
   ]
  },
  {
   "cell_type": "code",
   "execution_count": 17,
   "id": "9b129e13",
   "metadata": {},
   "outputs": [
    {
     "name": "stdout",
     "output_type": "stream",
     "text": [
      "+--------+-----------+---------------+-------------+--------+--------+\n",
      "|airlines|destination|departure_delay|arrival_delay|air_time|distance|\n",
      "+--------+-----------+---------------+-------------+--------+--------+\n",
      "|   19805|        LAX|             -6|            2|     355|    2475|\n",
      "|   19805|        JFK|             14|          -29|     269|    2475|\n",
      "|   19805|        LAX|             -6|           39|     371|    2475|\n",
      "|   19805|        JFK|             25|          -27|     264|    2475|\n",
      "|   19805|        HNL|             -5|           15|     510|    3784|\n",
      "+--------+-----------+---------------+-------------+--------+--------+\n",
      "only showing top 5 rows\n",
      "\n"
     ]
    }
   ],
   "source": [
    "flightDetails_df.show(5)"
   ]
  },
  {
   "cell_type": "code",
   "execution_count": 18,
   "id": "12dcd8d2",
   "metadata": {},
   "outputs": [
    {
     "data": {
      "text/plain": [
       "476881"
      ]
     },
     "execution_count": 18,
     "metadata": {},
     "output_type": "execute_result"
    }
   ],
   "source": [
    "flightDetails_df.count()"
   ]
  },
  {
   "cell_type": "code",
   "execution_count": 19,
   "id": "9b477efa",
   "metadata": {},
   "outputs": [],
   "source": [
    "flightDetailsClean_df = flightDetails_df.dropna()"
   ]
  },
  {
   "cell_type": "code",
   "execution_count": 20,
   "id": "24826565",
   "metadata": {},
   "outputs": [
    {
     "name": "stderr",
     "output_type": "stream",
     "text": [
      "                                                                                \r"
     ]
    },
    {
     "data": {
      "text/plain": [
       "476881"
      ]
     },
     "execution_count": 20,
     "metadata": {},
     "output_type": "execute_result"
    }
   ],
   "source": [
    "flightDetailsClean_df.count()"
   ]
  },
  {
   "cell_type": "code",
   "execution_count": 41,
   "id": "9f334c7f",
   "metadata": {},
   "outputs": [],
   "source": [
    "flightStats_df = flightDetailsClean_df.join(airlines_df, flightDetailsClean_df.airlines == airlines_df.Code )"
   ]
  },
  {
   "cell_type": "code",
   "execution_count": 42,
   "id": "98205ad3",
   "metadata": {},
   "outputs": [],
   "source": [
    "flightStats_filtered_df = flightStats_df.filter(flightStats_df.distance>2000).select('Code', 'Description', 'destination', 'departure_delay', 'arrival_delay', 'air_time', 'distance' )"
   ]
  },
  {
   "cell_type": "code",
   "execution_count": 45,
   "id": "b04df76a",
   "metadata": {},
   "outputs": [
    {
     "name": "stdout",
     "output_type": "stream",
     "text": [
      "+-----+--------------------+-----------+---------------+-------------+--------+--------+\n",
      "| Code|         Description|destination|departure_delay|arrival_delay|air_time|distance|\n",
      "+-----+--------------------+-----------+---------------+-------------+--------+--------+\n",
      "|19805|American Airlines...|        LAX|             -6|            2|     355|    2475|\n",
      "|19805|American Airlines...|        JFK|             14|          -29|     269|    2475|\n",
      "|19805|American Airlines...|        LAX|             -6|           39|     371|    2475|\n",
      "|19805|American Airlines...|        JFK|             25|          -27|     264|    2475|\n",
      "|19805|American Airlines...|        HNL|             -5|           15|     510|    3784|\n",
      "|19805|American Airlines...|        DFW|            126|           95|     385|    3711|\n",
      "|19805|American Airlines...|        OGG|            125|          138|     497|    3711|\n",
      "|19805|American Airlines...|        DFW|              4|          -22|     398|    3784|\n",
      "|19805|American Airlines...|        LAX|             -7|           19|     365|    2475|\n",
      "|19805|American Airlines...|        JFK|             21|            1|     265|    2475|\n",
      "+-----+--------------------+-----------+---------------+-------------+--------+--------+\n",
      "only showing top 10 rows\n",
      "\n"
     ]
    }
   ],
   "source": [
    "flightStats_filtered_df.show(10)"
   ]
  },
  {
   "cell_type": "code",
   "execution_count": 47,
   "id": "a7eaa639",
   "metadata": {},
   "outputs": [],
   "source": [
    "flightStats_combined_df = flightStats_filtered_df.withColumn('combined_delay_times', \\\n",
    "                                                             flightStats_filtered_df.departure_delay+\\\n",
    "                                                             flightStats_filtered_df.arrival_delay).\\\n",
    "                                                             drop('departure_delay', 'arrival_delay' )"
   ]
  },
  {
   "cell_type": "code",
   "execution_count": 61,
   "id": "85e60ae8",
   "metadata": {},
   "outputs": [
    {
     "name": "stdout",
     "output_type": "stream",
     "text": [
      "+-----+--------------------+-----------+--------+--------+--------------------+\n",
      "| Code|         Description|destination|air_time|distance|combined_delay_times|\n",
      "+-----+--------------------+-----------+--------+--------+--------------------+\n",
      "|19805|American Airlines...|        LAX|     355|    2475|                -4.0|\n",
      "|19805|American Airlines...|        JFK|     269|    2475|               -15.0|\n",
      "|19805|American Airlines...|        LAX|     371|    2475|                33.0|\n",
      "|19805|American Airlines...|        JFK|     264|    2475|                -2.0|\n",
      "|19805|American Airlines...|        HNL|     510|    3784|                10.0|\n",
      "|19805|American Airlines...|        DFW|     385|    3711|               221.0|\n",
      "|19805|American Airlines...|        OGG|     497|    3711|               263.0|\n",
      "|19805|American Airlines...|        DFW|     398|    3784|               -18.0|\n",
      "|19805|American Airlines...|        LAX|     365|    2475|                12.0|\n",
      "|19805|American Airlines...|        JFK|     265|    2475|                22.0|\n",
      "+-----+--------------------+-----------+--------+--------+--------------------+\n",
      "only showing top 10 rows\n",
      "\n"
     ]
    }
   ],
   "source": [
    "flightStats_combined_df.show(10)"
   ]
  },
  {
   "cell_type": "code",
   "execution_count": 62,
   "id": "c25d21e4",
   "metadata": {},
   "outputs": [],
   "source": [
    "flightStats_aggs = flightStats_combined_df.groupBy('Code', 'Description').\\\n",
    "                                                agg({\"combined_delay_times\": \"avg\", \"air_time\": \"avg\"})\\\n",
    "                                                .sort(col('avg(combined_delay_times)').desc())"
   ]
  },
  {
   "cell_type": "code",
   "execution_count": 63,
   "id": "b897e413",
   "metadata": {},
   "outputs": [],
   "source": [
    "flightStats_aggs = flightStats_aggs.withColumnRenamed(\"avg(combined_delay_times)\", \"AVG Combined Delay\")\\\n",
    "                                    .withColumnRenamed(\"avg(air_time)\", \"AVG Airtime\")"
   ]
  },
  {
   "cell_type": "code",
   "execution_count": 64,
   "id": "6f0e811c",
   "metadata": {},
   "outputs": [
    {
     "name": "stderr",
     "output_type": "stream",
     "text": [
      "\r",
      "[Stage 62:>                                                         (0 + 1) / 1]\r"
     ]
    },
    {
     "name": "stdout",
     "output_type": "stream",
     "text": [
      "+-----+--------------------+------------------+------------------+\n",
      "| Code|         Description|AVG Combined Delay|       AVG Airtime|\n",
      "+-----+--------------------+------------------+------------------+\n",
      "|19393|Southwest Airline...|25.467961165048543|275.43592233009707|\n",
      "|20437|AirTran Airways C...|              18.8|266.44166666666666|\n",
      "|21171|  Virgin America: VX|12.585792896448224|  312.847923961981|\n",
      "|20409| JetBlue Airways: B6|12.003034243606415| 310.2847854356307|\n",
      "|19790|Delta Air Lines I...|10.698739977090492|  291.994959908362|\n",
      "|19805|American Airlines...| 8.135942872256017|308.61306532663315|\n",
      "|19977|United Air Lines ...| 7.582413300428627| 309.2208078971295|\n",
      "|19690|Hawaiian Airlines...| 5.757637474541752| 324.5234215885947|\n",
      "|20355| US Airways Inc.: US| 3.625358577165806| 287.9974182444062|\n",
      "|19930|Alaska Airlines I...|-3.710103092783505| 312.5913402061856|\n",
      "+-----+--------------------+------------------+------------------+\n",
      "\n"
     ]
    },
    {
     "name": "stderr",
     "output_type": "stream",
     "text": [
      "\r",
      "                                                                                \r"
     ]
    }
   ],
   "source": [
    "flightStats_aggs.show(10)"
   ]
  },
  {
   "cell_type": "code",
   "execution_count": 65,
   "id": "1b70af09",
   "metadata": {},
   "outputs": [
    {
     "name": "stderr",
     "output_type": "stream",
     "text": [
      "                                                                                \r"
     ]
    }
   ],
   "source": [
    "flightStats_aggs_asPD = flightStats_aggs.toPandas()"
   ]
  },
  {
   "cell_type": "code",
   "execution_count": 78,
   "id": "e06157bb",
   "metadata": {},
   "outputs": [
    {
     "data": {
      "text/plain": [
       "<AxesSubplot:xlabel='Description'>"
      ]
     },
     "execution_count": 78,
     "metadata": {},
     "output_type": "execute_result"
    },
    {
     "data": {
      "image/png": "[encoded data removed]",
      "text/plain": [
       "<Figure size 640x480 with 1 Axes>"
      ]
     },
     "metadata": {},
     "output_type": "display_data"
    }
   ],
   "source": [
    "flightStats_aggs_asPD.plot(kind=\"bar\", x=\"Description\", y=[\"AVG Combined Delay\"])"
   ]
  },
  {
   "cell_type": "code",
   "execution_count": null,
   "id": "8908551a",
   "metadata": {},
   "outputs": [],
   "source": []
  }
 ],
 "metadata": {
  "kernelspec": {
   "display_name": "Python 3 (ipykernel)",
   "language": "python",
   "name": "python3"
  },
  "language_info": {
   "codemirror_mode": {
    "name": "ipython",
    "version": 3
   },
   "file_extension": ".py",
   "mimetype": "text/x-python",
   "name": "python",
   "nbconvert_exporter": "python",
   "pygments_lexer": "ipython3",
   "version": "3.9.13"
  }
 },
 "nbformat": 4,
 "nbformat_minor": 5
}
