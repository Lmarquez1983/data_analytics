{
 "cells": [
  {
   "cell_type": "code",
   "execution_count": 1,
   "metadata": {},
   "outputs": [],
   "source": [
    "import pandas as pd"
   ]
  },
  {
   "cell_type": "code",
   "execution_count": 2,
   "metadata": {},
   "outputs": [],
   "source": [
    "df = pd.read_csv(\"UniversityCosts.csv\")"
   ]
  },
  {
   "cell_type": "code",
   "execution_count": 3,
   "metadata": {},
   "outputs": [],
   "source": [
    "pub_df= df.loc[(df['Type'].str.contains('Public'))]"
   ]
  },
  {
   "cell_type": "code",
   "execution_count": 4,
   "metadata": {},
   "outputs": [],
   "source": [
    "yr_df = pub_df.loc[(df['Year'].between(2017,2020))]"
   ]
  },
  {
   "cell_type": "code",
   "execution_count": 5,
   "metadata": {},
   "outputs": [],
   "source": [
    "st_df = yr_df.loc[(df['State'] == 'New York') | (df['State'] == 'Pennsylvania') | (df['State'] == 'Massachusetts')]"
   ]
  },
  {
   "cell_type": "code",
   "execution_count": 6,
   "metadata": {},
   "outputs": [],
   "source": [
    "final_df = st_df.loc[(df['Length'] == '4-year')]"
   ]
  },
  {
   "cell_type": "code",
   "execution_count": 7,
   "metadata": {},
   "outputs": [
    {
     "data": {
      "text/html": [
       "<div>\n",
       "<style scoped>\n",
       "    .dataframe tbody tr th:only-of-type {\n",
       "        vertical-align: middle;\n",
       "    }\n",
       "\n",
       "    .dataframe tbody tr th {\n",
       "        vertical-align: top;\n",
       "    }\n",
       "\n",
       "    .dataframe thead th {\n",
       "        text-align: right;\n",
       "    }\n",
       "</style>\n",
       "<table border=\"1\" class=\"dataframe\">\n",
       "  <thead>\n",
       "    <tr style=\"text-align: right;\">\n",
       "      <th></th>\n",
       "      <th>Year</th>\n",
       "      <th>State</th>\n",
       "      <th>Type</th>\n",
       "      <th>Length</th>\n",
       "      <th>Expense</th>\n",
       "      <th>Value</th>\n",
       "    </tr>\n",
       "  </thead>\n",
       "  <tbody>\n",
       "    <tr>\n",
       "      <th>1777</th>\n",
       "      <td>2017</td>\n",
       "      <td>Massachusetts</td>\n",
       "      <td>Public In-State</td>\n",
       "      <td>4-year</td>\n",
       "      <td>Fees/Tuition</td>\n",
       "      <td>12331</td>\n",
       "    </tr>\n",
       "    <tr>\n",
       "      <th>1778</th>\n",
       "      <td>2017</td>\n",
       "      <td>Massachusetts</td>\n",
       "      <td>Public In-State</td>\n",
       "      <td>4-year</td>\n",
       "      <td>Room/Board</td>\n",
       "      <td>12142</td>\n",
       "    </tr>\n",
       "    <tr>\n",
       "      <th>1780</th>\n",
       "      <td>2017</td>\n",
       "      <td>Massachusetts</td>\n",
       "      <td>Public Out-of-State</td>\n",
       "      <td>4-year</td>\n",
       "      <td>Fees/Tuition</td>\n",
       "      <td>28740</td>\n",
       "    </tr>\n",
       "    <tr>\n",
       "      <th>1781</th>\n",
       "      <td>2017</td>\n",
       "      <td>Massachusetts</td>\n",
       "      <td>Public Out-of-State</td>\n",
       "      <td>4-year</td>\n",
       "      <td>Room/Board</td>\n",
       "      <td>12142</td>\n",
       "    </tr>\n",
       "    <tr>\n",
       "      <th>1865</th>\n",
       "      <td>2017</td>\n",
       "      <td>New York</td>\n",
       "      <td>Public In-State</td>\n",
       "      <td>4-year</td>\n",
       "      <td>Fees/Tuition</td>\n",
       "      <td>7709</td>\n",
       "    </tr>\n",
       "  </tbody>\n",
       "</table>\n",
       "</div>"
      ],
      "text/plain": [
       "      Year          State                 Type  Length       Expense  Value\n",
       "1777  2017  Massachusetts      Public In-State  4-year  Fees/Tuition  12331\n",
       "1778  2017  Massachusetts      Public In-State  4-year    Room/Board  12142\n",
       "1780  2017  Massachusetts  Public Out-of-State  4-year  Fees/Tuition  28740\n",
       "1781  2017  Massachusetts  Public Out-of-State  4-year    Room/Board  12142\n",
       "1865  2017       New York      Public In-State  4-year  Fees/Tuition   7709"
      ]
     },
     "execution_count": 7,
     "metadata": {},
     "output_type": "execute_result"
    }
   ],
   "source": [
    "#Results head.\n",
    "final_df.head(5)"
   ]
  },
  {
   "cell_type": "code",
   "execution_count": 19,
   "metadata": {},
   "outputs": [
    {
     "data": {
      "text/html": [
       "<div>\n",
       "<style scoped>\n",
       "    .dataframe tbody tr th:only-of-type {\n",
       "        vertical-align: middle;\n",
       "    }\n",
       "\n",
       "    .dataframe tbody tr th {\n",
       "        vertical-align: top;\n",
       "    }\n",
       "\n",
       "    .dataframe thead th {\n",
       "        text-align: right;\n",
       "    }\n",
       "</style>\n",
       "<table border=\"1\" class=\"dataframe\">\n",
       "  <thead>\n",
       "    <tr style=\"text-align: right;\">\n",
       "      <th></th>\n",
       "      <th>Year</th>\n",
       "      <th>State</th>\n",
       "      <th>Type</th>\n",
       "      <th>Length</th>\n",
       "      <th>Expense</th>\n",
       "      <th>Value</th>\n",
       "    </tr>\n",
       "  </thead>\n",
       "  <tbody>\n",
       "    <tr>\n",
       "      <th>3060</th>\n",
       "      <td>2020</td>\n",
       "      <td>New York</td>\n",
       "      <td>Public Out-of-State</td>\n",
       "      <td>4-year</td>\n",
       "      <td>Room/Board</td>\n",
       "      <td>15408</td>\n",
       "    </tr>\n",
       "    <tr>\n",
       "      <th>3104</th>\n",
       "      <td>2020</td>\n",
       "      <td>Pennsylvania</td>\n",
       "      <td>Public In-State</td>\n",
       "      <td>4-year</td>\n",
       "      <td>Fees/Tuition</td>\n",
       "      <td>15565</td>\n",
       "    </tr>\n",
       "    <tr>\n",
       "      <th>3105</th>\n",
       "      <td>2020</td>\n",
       "      <td>Pennsylvania</td>\n",
       "      <td>Public In-State</td>\n",
       "      <td>4-year</td>\n",
       "      <td>Room/Board</td>\n",
       "      <td>11839</td>\n",
       "    </tr>\n",
       "    <tr>\n",
       "      <th>3107</th>\n",
       "      <td>2020</td>\n",
       "      <td>Pennsylvania</td>\n",
       "      <td>Public Out-of-State</td>\n",
       "      <td>4-year</td>\n",
       "      <td>Fees/Tuition</td>\n",
       "      <td>30222</td>\n",
       "    </tr>\n",
       "    <tr>\n",
       "      <th>3108</th>\n",
       "      <td>2020</td>\n",
       "      <td>Pennsylvania</td>\n",
       "      <td>Public Out-of-State</td>\n",
       "      <td>4-year</td>\n",
       "      <td>Room/Board</td>\n",
       "      <td>11839</td>\n",
       "    </tr>\n",
       "  </tbody>\n",
       "</table>\n",
       "</div>"
      ],
      "text/plain": [
       "      Year         State                 Type  Length       Expense  Value\n",
       "3060  2020      New York  Public Out-of-State  4-year    Room/Board  15408\n",
       "3104  2020  Pennsylvania      Public In-State  4-year  Fees/Tuition  15565\n",
       "3105  2020  Pennsylvania      Public In-State  4-year    Room/Board  11839\n",
       "3107  2020  Pennsylvania  Public Out-of-State  4-year  Fees/Tuition  30222\n",
       "3108  2020  Pennsylvania  Public Out-of-State  4-year    Room/Board  11839"
      ]
     },
     "execution_count": 19,
     "metadata": {},
     "output_type": "execute_result"
    }
   ],
   "source": [
    "#Results tail.\n",
    "final_df.tail(5)"
   ]
  },
  {
   "cell_type": "code",
   "execution_count": 23,
   "metadata": {},
   "outputs": [
    {
     "data": {
      "text/html": [
       "<div>\n",
       "<style scoped>\n",
       "    .dataframe tbody tr th:only-of-type {\n",
       "        vertical-align: middle;\n",
       "    }\n",
       "\n",
       "    .dataframe tbody tr th {\n",
       "        vertical-align: top;\n",
       "    }\n",
       "\n",
       "    .dataframe thead th {\n",
       "        text-align: right;\n",
       "    }\n",
       "</style>\n",
       "<table border=\"1\" class=\"dataframe\">\n",
       "  <thead>\n",
       "    <tr style=\"text-align: right;\">\n",
       "      <th></th>\n",
       "      <th></th>\n",
       "      <th>Highest Expenses</th>\n",
       "      <th>Lowest Expenses</th>\n",
       "      <th>Avg Expenses</th>\n",
       "    </tr>\n",
       "    <tr>\n",
       "      <th>State</th>\n",
       "      <th>Expense</th>\n",
       "      <th></th>\n",
       "      <th></th>\n",
       "      <th></th>\n",
       "    </tr>\n",
       "  </thead>\n",
       "  <tbody>\n",
       "    <tr>\n",
       "      <th rowspan=\"2\" valign=\"top\">Massachusetts</th>\n",
       "      <th>Fees/Tuition</th>\n",
       "      <td>31894</td>\n",
       "      <td>12331</td>\n",
       "      <td>21687.250</td>\n",
       "    </tr>\n",
       "    <tr>\n",
       "      <th>Room/Board</th>\n",
       "      <td>13889</td>\n",
       "      <td>12142</td>\n",
       "      <td>12995.750</td>\n",
       "    </tr>\n",
       "    <tr>\n",
       "      <th rowspan=\"2\" valign=\"top\">New York</th>\n",
       "      <th>Fees/Tuition</th>\n",
       "      <td>22669</td>\n",
       "      <td>7709</td>\n",
       "      <td>15020.750</td>\n",
       "    </tr>\n",
       "    <tr>\n",
       "      <th>Room/Board</th>\n",
       "      <td>15408</td>\n",
       "      <td>14042</td>\n",
       "      <td>14681.000</td>\n",
       "    </tr>\n",
       "    <tr>\n",
       "      <th rowspan=\"2\" valign=\"top\">Pennsylvania</th>\n",
       "      <th>Fees/Tuition</th>\n",
       "      <td>30222</td>\n",
       "      <td>14068</td>\n",
       "      <td>21398.125</td>\n",
       "    </tr>\n",
       "    <tr>\n",
       "      <th>Room/Board</th>\n",
       "      <td>11839</td>\n",
       "      <td>11261</td>\n",
       "      <td>11459.750</td>\n",
       "    </tr>\n",
       "  </tbody>\n",
       "</table>\n",
       "</div>"
      ],
      "text/plain": [
       "                            Highest Expenses  Lowest Expenses  Avg Expenses\n",
       "State         Expense                                                      \n",
       "Massachusetts Fees/Tuition             31894            12331     21687.250\n",
       "              Room/Board               13889            12142     12995.750\n",
       "New York      Fees/Tuition             22669             7709     15020.750\n",
       "              Room/Board               15408            14042     14681.000\n",
       "Pennsylvania  Fees/Tuition             30222            14068     21398.125\n",
       "              Room/Board               11839            11261     11459.750"
      ]
     },
     "execution_count": 23,
     "metadata": {},
     "output_type": "execute_result"
    }
   ],
   "source": [
    "#Calculate highest, lowest and average grouping by State and Expense.\n",
    "result = final_df.groupby(['State', 'Expense']).agg({'Value': ['max', 'min', 'mean']})\n",
    "result.columns = ['Highest Expenses', 'Lowest Expenses', 'Avg Expenses']\n",
    "result"
   ]
  },
  {
   "cell_type": "code",
   "execution_count": 36,
   "metadata": {},
   "outputs": [
    {
     "data": {
      "text/plain": [
       "Text(0.5, 1.0, 'High and Low Expense Values by Type Within State')"
      ]
     },
     "execution_count": 36,
     "metadata": {},
     "output_type": "execute_result"
    },
    {
     "data": {
      "image/png": "[encoded data removed]",
      "text/plain": [
       "<Figure size 432x288 with 1 Axes>"
      ]
     },
     "metadata": {
      "needs_background": "light"
     },
     "output_type": "display_data"
    }
   ],
   "source": [
    "#Plot bar graph from calculations.\n",
    "result[['Highest Expenses', 'Lowest Expenses']].plot.bar().set_title('High and Low Expense Values by Type Within State')"
   ]
  },
  {
   "cell_type": "code",
   "execution_count": null,
   "metadata": {},
   "outputs": [],
   "source": []
  }
 ],
 "metadata": {
  "kernelspec": {
   "display_name": "Python 3",
   "language": "python",
   "name": "python3"
  },
  "language_info": {
   "codemirror_mode": {
    "name": "ipython",
    "version": 3
   },
   "file_extension": ".py",
   "mimetype": "text/x-python",
   "name": "python",
   "nbconvert_exporter": "python",
   "pygments_lexer": "ipython3",
   "version": "3.8.5"
  }
 },
 "nbformat": 4,
 "nbformat_minor": 4
}
